{
 "cells": [
  {
   "cell_type": "code",
   "execution_count": null,
   "metadata": {},
   "outputs": [],
   "source": [
    "import pandas as pd\n",
    "import matplotlib.pyplot as plt\n",
    "from scipy.stats import linregress\n",
    "\n",
    "# Load data from CSV file\n",
    "data = pd.read_csv('data.csv')\n",
    "\n",
    "# Combine 'Date' and 'Time' columns to create a datetime object for the full timestamp\n",
    "data['Timestamp'] = pd.to_datetime(data['Date'] + ' ' + data['Time'], format='%d/%m/%Y %H:%M:%S')\n",
    "\n",
    "# Plotting the correlation between WiFi Packets Sniffed and People Counted with line of best fit\n",
    "def plot_correlation(data):\n",
    "    plt.figure(figsize=(10, 6))\n",
    "    plt.scatter(data['Probe Request Frames'], data['People Counted'], label='Data Points')\n",
    "    plt.xlabel('Probe Request Frames')\n",
    "    plt.ylabel('People Counted')\n",
    "    plt.title('Correlation between Probe Request Frames and People Counted')\n",
    "    plt.grid(True)\n",
    "\n",
    "    # Calculate line of best fit\n",
    "    slope, intercept, r_value, p_value, std_err = linregress(data['Probe Request Frames'], data['People Counted'])\n",
    "    line_fit = slope * data['Probe Request Frames'] + intercept\n",
    "\n",
    "    # Plot the line of best fit\n",
    "    plt.plot(data['Probe Request Frames'], line_fit, color='red', label='Line of Best Fit')\n",
    "    plt.legend()\n",
    "    plt.show()\n",
    "\n",
    "# Plotting bar graph for average WiFi Packets Sniffed and People Counted per hour interval over 1 day\n",
    "def plot_per_interval(data):\n",
    "    # Resample the data to get average values per hour interval\n",
    "    resampled_data = data.resample('H', on='Timestamp').mean()\n",
    "\n",
    "    # Extract hour component as numerical values\n",
    "    resampled_data['TimeValue'] = resampled_data.index.hour\n",
    "\n",
    "    plt.figure(figsize=(10, 6))\n",
    "    plt.bar(resampled_data['TimeValue'], resampled_data['Probe Request Frames'], label='Probe Request Frames')\n",
    "    plt.bar(resampled_data['TimeValue'], resampled_data['People Counted'], label='People Counted', alpha=0.5)\n",
    "    plt.xlabel('Time (Hourly intervals)')\n",
    "    plt.ylabel('Count')\n",
    "    plt.title('Average Probe Request Frames vs People Counted per Hour')\n",
    "    plt.legend()\n",
    "    plt.grid(True)\n",
    "    plt.xticks(resampled_data['TimeValue'])  # Set the x-axis ticks to the extracted hour values\n",
    "    plt.show()\n",
    "\n",
    "# Call the functions to generate the graphs\n",
    "plot_correlation(data)\n",
    "plot_per_interval(data)\n"
   ]
  },
  {
   "cell_type": "code",
   "execution_count": null,
   "metadata": {},
   "outputs": [],
   "source": []
  }
 ],
 "metadata": {
  "kernelspec": {
   "display_name": "Python 3",
   "language": "python",
   "name": "python3"
  },
  "language_info": {
   "codemirror_mode": {
    "name": "ipython",
    "version": 3
   },
   "file_extension": ".py",
   "mimetype": "text/x-python",
   "name": "python",
   "nbconvert_exporter": "python",
   "pygments_lexer": "ipython3",
   "version": "3.10.12"
  },
  "orig_nbformat": 4
 },
 "nbformat": 4,
 "nbformat_minor": 2
}
