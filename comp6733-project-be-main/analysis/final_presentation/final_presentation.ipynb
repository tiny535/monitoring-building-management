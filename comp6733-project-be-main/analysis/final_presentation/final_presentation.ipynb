{
 "cells": [
  {
   "cell_type": "markdown",
   "metadata": {},
   "source": [
    "# Import Data\n"
   ]
  },
  {
   "cell_type": "code",
   "execution_count": null,
   "metadata": {},
   "outputs": [],
   "source": [
    "import pandas as pd\n",
    "import matplotlib.pyplot as plt\n",
    "from scipy.stats import linregress\n",
    "\n",
    "# Load data from CSV file\n",
    "data = pd.read_csv('haar_test_results.csv')\n",
    "\n",
    "data.info()\n",
    "data.head()"
   ]
  },
  {
   "cell_type": "markdown",
   "metadata": {},
   "source": [
    "# Bar Graph 1 - Pre-Triangulation vs Post-Triangulation"
   ]
  },
  {
   "cell_type": "code",
   "execution_count": null,
   "metadata": {},
   "outputs": [],
   "source": [
    "# Calculate positions for side-by-side bars\n",
    "bar_width = 0.4\n",
    "index = data.index\n",
    "bar_positions_pre = index - bar_width / 2\n",
    "bar_positions_post = index + bar_width / 2\n",
    "\n",
    "# Plotting\n",
    "plt.figure(figsize=(10, 6))\n",
    "plt.bar(bar_positions_pre, data['num_devices_pre_triangulation'], width=bar_width, label='Pre Triangulation', color='blue', alpha=0.7)\n",
    "plt.bar(bar_positions_post, data['num_devices_post_triangulation'], width=bar_width, label='Post Triangulation', color='orange', alpha=0.7)\n",
    "\n",
    "\n",
    "\n",
    "# Adding labels and title\n",
    "plt.xlabel('Sample')\n",
    "plt.ylabel('Number of Devices')\n",
    "plt.title('Number of Devices calculated Pre and Post Triangulation')\n",
    "plt.xticks(data.index, data.index)  # Set x-axis ticks to match DataFrame index\n",
    "plt.legend()\n",
    "\n",
    "# Display the graph\n",
    "plt.tight_layout()\n",
    "plt.show()\n"
   ]
  },
  {
   "cell_type": "markdown",
   "metadata": {},
   "source": [
    "# Bar Graph 2 - Ground Truth vs Detected Face Count"
   ]
  },
  {
   "cell_type": "code",
   "execution_count": null,
   "metadata": {},
   "outputs": [],
   "source": [
    "# Calculate positions for side-by-side bars\n",
    "bar_width = 0.4\n",
    "index = data.index\n",
    "manual_ground_truth = index - bar_width / 2\n",
    "detected_face_count = index + bar_width / 2\n",
    "\n",
    "# Plotting\n",
    "plt.figure(figsize=(10, 6))\n",
    "plt.bar(manual_ground_truth, data['face_count_ground_truth'], width=bar_width, label='Ground Truth Face Count', color='blue', alpha=0.7)\n",
    "plt.bar(detected_face_count, data['face_count_detected'], width=bar_width, label='Facial Recognition Face Count', color='orange', alpha=0.7)\n",
    "\n",
    "\n",
    "\n",
    "# Adding labels and title\n",
    "plt.xlabel('Sample')\n",
    "plt.ylabel('Number of Faces Counted')\n",
    "plt.title('Number of Faces Counted Manually vs Facial Recognition')\n",
    "plt.xticks(data.index, data.index)  # Set x-axis ticks to match DataFrame index\n",
    "plt.legend()\n",
    "\n",
    "# Display the graph\n",
    "plt.tight_layout()\n",
    "plt.show()\n"
   ]
  },
  {
   "cell_type": "markdown",
   "metadata": {},
   "source": [
    "# Bar Graph 3 - Post Triangulation vs Detected Face Count vs Reconciled Output"
   ]
  },
  {
   "cell_type": "code",
   "execution_count": null,
   "metadata": {},
   "outputs": [],
   "source": [
    "# Calculate positions for side-by-side bars\n",
    "bar_width = 0.2\n",
    "index = data.index\n",
    "bar_positions_post = index - bar_width\n",
    "bar_positions_detected_face_count = index\n",
    "bar_positions_reconciled_output = index + bar_width\n",
    "\n",
    "# Plotting\n",
    "plt.figure(figsize=(10, 6))\n",
    "plt.bar(bar_positions_post, data['num_devices_post_triangulation'], width=bar_width, label='Post Triangulation', color='blue', alpha=0.7)\n",
    "plt.bar(bar_positions_detected_face_count, data['face_count_detected'], width=bar_width, label='Facial Recognition Face Count', color='orange', alpha=0.7)\n",
    "plt.bar(bar_positions_reconciled_output, data['reconciled_output'], width=bar_width, label='Estimated Occupancy', color='green', alpha=0.7)\n",
    "\n",
    "# Adding labels and title\n",
    "plt.xlabel('Sample')\n",
    "plt.ylabel('Occupancy Estimation')\n",
    "plt.title('Post Triangulation Device Count vs Number of Faces Detected vs Estimated Occupancy')\n",
    "plt.xticks(data.index, data.index)  # Set x-axis ticks to match DataFrame index\n",
    "plt.legend()\n",
    "\n",
    "# Display the graph\n",
    "plt.tight_layout()\n",
    "plt.show()\n"
   ]
  },
  {
   "cell_type": "markdown",
   "metadata": {},
   "source": [
    "# Bar Graph 4 - Reconciled Output vs Actual Occupancy"
   ]
  },
  {
   "cell_type": "code",
   "execution_count": null,
   "metadata": {},
   "outputs": [],
   "source": [
    "# Calculate positions for side-by-side bars\n",
    "bar_width = 0.4\n",
    "index = data.index\n",
    "manual_ground_truth = index - bar_width / 2\n",
    "reconciled_output = index + bar_width / 2\n",
    "\n",
    "# Plotting\n",
    "plt.figure(figsize=(10, 6))\n",
    "plt.bar(manual_ground_truth, data['face_count_ground_truth'], width=bar_width, label='Ground Truth Face Count', color='blue', alpha=0.7)\n",
    "plt.bar(reconciled_output, data['reconciled_output'], width=bar_width, label='Estimated Occupancy', color='green', alpha=0.7)\n",
    "\n",
    "\n",
    "\n",
    "# Adding labels and title\n",
    "plt.xlabel('Sample')\n",
    "plt.ylabel('Occupancy')\n",
    "plt.title('Actual vs Estimated Occupancy')\n",
    "plt.xticks(data.index, data.index)  # Set x-axis ticks to match DataFrame index\n",
    "plt.legend()\n",
    "\n",
    "# Display the graph\n",
    "plt.tight_layout()\n",
    "plt.show()\n"
   ]
  }
 ],
 "metadata": {
  "kernelspec": {
   "display_name": "Python 3",
   "language": "python",
   "name": "python3"
  },
  "language_info": {
   "codemirror_mode": {
    "name": "ipython",
    "version": 3
   },
   "file_extension": ".py",
   "mimetype": "text/x-python",
   "name": "python",
   "nbconvert_exporter": "python",
   "pygments_lexer": "ipython3",
   "version": "3.10.12"
  },
  "orig_nbformat": 4
 },
 "nbformat": 4,
 "nbformat_minor": 2
}
