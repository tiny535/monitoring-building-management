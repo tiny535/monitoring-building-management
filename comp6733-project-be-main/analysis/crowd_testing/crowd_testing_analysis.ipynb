{
 "cells": [
  {
   "cell_type": "markdown",
   "metadata": {},
   "source": [
    "# Load the Data"
   ]
  },
  {
   "cell_type": "code",
   "execution_count": null,
   "metadata": {},
   "outputs": [],
   "source": [
    "import pandas as pd\n",
    "import re\n",
    "\n",
    "# Replace 'file1.csv' and 'file2.csv' with the actual file paths of your CSV files\n",
    "crowd_path = 'crowd_5a.csv'\n",
    "test_path = 'test_5a_lbp.csv'\n",
    "\n",
    "# Load the CSV files into pandas DataFrames\n",
    "crowd_df = pd.read_csv(crowd_path)\n",
    "test_df = pd.read_csv(test_path)"
   ]
  },
  {
   "cell_type": "markdown",
   "metadata": {},
   "source": [
    "# Inspect the Data"
   ]
  },
  {
   "cell_type": "code",
   "execution_count": null,
   "metadata": {},
   "outputs": [],
   "source": [
    "# Now you can work with the data in crowd_2a_df and test_2a_df as needed\n",
    "# For example, you can print the overview of the data.\n",
    "\n",
    "print(\"Data overview from crowd_2a.csv: \")\n",
    "crowd_df.rename(columns = {'faces':'actual_num_faces'}, inplace = True)\n",
    "print(crowd_df.info())\n",
    "\n",
    "\n",
    "print(\"\\nData overview from test_2a.csv: \")\n",
    "test_df.rename(columns = {'faces':'test_num_faces'}, inplace = True)\n",
    "print(test_df.info())\n",
    "\n",
    "# You can print the first few rows of each DataFrame:\n",
    "print(\"Data from crowd_2a.csv:\")\n",
    "print(crowd_df.head())\n",
    "\n",
    "print(\"\\nData from test_2a.csv:\")\n",
    "print(test_df.head())"
   ]
  },
  {
   "cell_type": "markdown",
   "metadata": {},
   "source": [
    "# Compare all elements in first column"
   ]
  },
  {
   "cell_type": "code",
   "execution_count": null,
   "metadata": {},
   "outputs": [],
   "source": [
    "# Replace 'column_name' with the name of the column you want to use for sorting\n",
    "column_name = 'filename'\n",
    "\n",
    "# Sort the DataFrame based on the specified column in ascending order\n",
    "crowd_df_sorted = crowd_df.sort_values(by=column_name)\n",
    "test_df_sorted = test_df.sort_values(by=column_name)\n",
    "\n",
    "# Extract the first columns from each DataFrame\n",
    "col1_crowd = crowd_df_sorted[column_name]\n",
    "col1_test = test_df_sorted[column_name]\n",
    "\n",
    "col1_crowd_stripped = []\n",
    "col1_test_stripped = []\n",
    "\n",
    "# Strip the index values\n",
    "for x in col1_crowd:\n",
    "    x_stripped = re.sub(r'^\\s*\\d+\\s+', '', x)\n",
    "    col1_crowd_stripped.append(x_stripped)\n",
    "\n",
    "for y in col1_test:\n",
    "    y_stripped = re.sub(r'^\\s*\\d+\\s+', '', y)\n",
    "    col1_test_stripped.append(y_stripped)\n",
    "\n",
    "# Compare the two columns (after stripping index values)\n",
    "if col1_crowd_stripped == col1_test_stripped:\n",
    "    print(\"The entire first column of crowd_2a.csv is equal to the entire first column of test_2a.csv.\")\n",
    "else:\n",
    "    print(\"The entire first column of crowd_2a.csv is NOT equal to the entire first column of test_2a.csv.\")"
   ]
  },
  {
   "cell_type": "markdown",
   "metadata": {},
   "source": [
    "# Compare"
   ]
  },
  {
   "cell_type": "code",
   "execution_count": null,
   "metadata": {},
   "outputs": [],
   "source": [
    "def compare_faces(df1, df2):\n",
    "    # Assuming both DataFrames have the same length and order of rows\n",
    "    true = 0\n",
    "    false = 0\n",
    "    for index, row in df2.iterrows():\n",
    "        filename = row[\"filename\"]\n",
    "        faces_in_df2 = row[\"test_num_faces\"]\n",
    "        faces_in_df1 = df1.loc[index, \"actual_num_faces\"]\n",
    "\n",
    "        if faces_in_df2 != faces_in_df1:\n",
    "            print(f\"Filename: {filename}, Faces: False\")\n",
    "            false += 1\n",
    "        else:\n",
    "            print(f\"Filename: {filename}, Faces: True\")\n",
    "            true += 1\n",
    "    print(f\"Success: {true}, Misses: {false}\")\n",
    "compare_faces(crowd_df_sorted, test_df_sorted)"
   ]
  },
  {
   "cell_type": "markdown",
   "metadata": {},
   "source": [
    "# Make a new table\n"
   ]
  },
  {
   "cell_type": "code",
   "execution_count": null,
   "metadata": {},
   "outputs": [],
   "source": [
    "def actual_vs_test(df1, df2):\n",
    "    # df_merged = df1.append(df2, ignore_index=True)\n",
    "    df_merged = pd.merge(df1, df2, on=\"filename\")\n",
    "    return df_merged\n",
    "\n",
    "crowd_test_merged = actual_vs_test(crowd_df_sorted, test_df_sorted)\n",
    "\n",
    "print(crowd_test_merged.head())\n",
    "\n"
   ]
  },
  {
   "cell_type": "markdown",
   "metadata": {},
   "source": [
    "# Export merged data"
   ]
  },
  {
   "cell_type": "code",
   "execution_count": null,
   "metadata": {},
   "outputs": [],
   "source": [
    "crowd_test_merged.to_csv(\"crowd_vs_test_lbp_2a.csv\", index=False)"
   ]
  }
 ],
 "metadata": {
  "kernelspec": {
   "display_name": "Python 3.11.4 64-bit",
   "language": "python",
   "name": "python3"
  },
  "language_info": {
   "codemirror_mode": {
    "name": "ipython",
    "version": 3
   },
   "file_extension": ".py",
   "mimetype": "text/x-python",
   "name": "python",
   "nbconvert_exporter": "python",
   "pygments_lexer": "ipython3",
   "version": "3.11.4"
  },
  "orig_nbformat": 4,
  "vscode": {
   "interpreter": {
    "hash": "b0fa6594d8f4cbf19f97940f81e996739fb7646882a419484c72d19e05852a7e"
   }
  }
 },
 "nbformat": 4,
 "nbformat_minor": 2
}
