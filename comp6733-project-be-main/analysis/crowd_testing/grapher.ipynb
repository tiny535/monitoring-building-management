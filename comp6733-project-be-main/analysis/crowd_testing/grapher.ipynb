{
 "cells": [
  {
   "cell_type": "markdown",
   "metadata": {},
   "source": [
    "# Setup"
   ]
  },
  {
   "cell_type": "code",
   "execution_count": null,
   "metadata": {},
   "outputs": [],
   "source": [
    "import pandas as pd\n",
    "import matplotlib.pyplot as plt\n",
    "\n",
    "# Load data from CSV file\n",
    "data = pd.read_csv('crowd_vs_test_haar_5a.csv')\n",
    "data.info()\n",
    "data.index"
   ]
  },
  {
   "cell_type": "markdown",
   "metadata": {},
   "source": [
    "# Make the scatterplot and regression"
   ]
  },
  {
   "cell_type": "code",
   "execution_count": null,
   "metadata": {},
   "outputs": [],
   "source": [
    "import pandas as pd\n",
    "import numpy as np\n",
    "import matplotlib.pyplot as plt\n",
    "\n",
    "# Calculate linear regression line parameters\n",
    "regression_params = np.polyfit(data['actual_num_faces'], data['test_num_faces'], 1)\n",
    "m = regression_params[0]  # Slope\n",
    "b = regression_params[1]  # Intercept\n",
    "\n",
    "# Plotting\n",
    "plt.figure(figsize=(10, 6))\n",
    "\n",
    "plt.scatter(data['actual_num_faces'], data['test_num_faces'], color='blue', label='Predicted vs. Actual')\n",
    "\n",
    "# Plot the linear regression line\n",
    "x_vals = np.linspace(min(data['actual_num_faces']), max(data['actual_num_faces']), 100)\n",
    "y_vals = m * x_vals + b\n",
    "plt.plot(x_vals, y_vals, color='red', label=f'Regression Line: y = {m:.2f}x + {b:.2f}')\n",
    "\n",
    "plt.xlabel('Actual Number of Faces')\n",
    "plt.ylabel('Predicted Number of Faces')\n",
    "\n",
    "plt.suptitle('Expected vs. Predicted Number of Faces', fontsize=16, y=0.95)\n",
    "plt.title('Crowd 5a vs Testing Haar')\n",
    "\n",
    "plt.legend()\n",
    "plt.grid(True)\n",
    "plt.show()\n",
    "\n"
   ]
  },
  {
   "cell_type": "markdown",
   "metadata": {},
   "source": [
    "# Make Pie Chart"
   ]
  },
  {
   "cell_type": "code",
   "execution_count": null,
   "metadata": {},
   "outputs": [],
   "source": [
    "\n",
    "# Data for the pie chart\n",
    "labels = ['True', 'False']\n",
    "sizes = [99.27, 0.73]  # Percentage distribution of each category\n",
    "colors = ['skyblue', 'lightcoral',]\n",
    "explode = (0.05, 0.05)  # Explode the 1st slice\n",
    "\n",
    "# Create the pie chart\n",
    "plt.figure(figsize=(8, 6))\n",
    "plt.pie(sizes, explode=explode, labels=labels, colors=colors, autopct='%1.1f%%', shadow=True, startangle=140)\n",
    "plt.axis('equal')  # Equal aspect ratio ensures the pie is drawn as a circle\n",
    "\n",
    "# Add a title\n",
    "plt.title('Labelled Faces in the Wild - Haar Classifier')\n",
    "\n",
    "# Display the pie chart\n",
    "plt.show()\n"
   ]
  }
 ],
 "metadata": {
  "kernelspec": {
   "display_name": "Python 3.11.4 64-bit",
   "language": "python",
   "name": "python3"
  },
  "language_info": {
   "codemirror_mode": {
    "name": "ipython",
    "version": 3
   },
   "file_extension": ".py",
   "mimetype": "text/x-python",
   "name": "python",
   "nbconvert_exporter": "python",
   "pygments_lexer": "ipython3",
   "version": "3.10.12"
  },
  "orig_nbformat": 4,
  "vscode": {
   "interpreter": {
    "hash": "b0fa6594d8f4cbf19f97940f81e996739fb7646882a419484c72d19e05852a7e"
   }
  }
 },
 "nbformat": 4,
 "nbformat_minor": 2
}
